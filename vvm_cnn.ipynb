{
  "cells": [
    {
      "cell_type": "code",
      "source": [
        "from google.colab import drive\n",
        "drive.mount('/content/drive')"
      ],
      "metadata": {
        "id": "kZk2bDmODooE"
      },
      "execution_count": null,
      "outputs": []
    },
    {
      "cell_type": "code",
      "execution_count": null,
      "metadata": {
        "id": "AEDZG6DycaQp"
      },
      "outputs": [],
      "source": [
        "import numpy as np\n",
        "import pandas as pd\n",
        "import os\n",
        "#os.environ[\"CUDA_VISIBLE_DEVICES\"] = \"2\"\n",
        "import pickle\n",
        "import matplotlib.pyplot as plt\n",
        "from sklearn.model_selection import train_test_split\n",
        "from sklearn.metrics import mean_squared_error\n",
        "import torch\n",
        "import torch.nn as nn\n",
        "import torch.nn.functional as F\n",
        "import torch.optim as optim\n",
        "from torchvision.transforms import transforms\n",
        "#from torchsummary import summary\n",
        "%pip install torchinfo\n",
        "from torchinfo import summary\n",
        "from torch.utils.data import Dataset, DataLoader, TensorDataset, random_split\n",
        "iopath='/content/drive/MyDrive/VVM-CNN/'"
      ]
    },
    {
      "cell_type": "code",
      "execution_count": null,
      "metadata": {
        "id": "pQ0iYVSI_erS"
      },
      "outputs": [],
      "source": [
        "def set_seed(seed):\n",
        "    torch.manual_seed(seed)\n",
        "    torch.cuda.manual_seed(seed)\n",
        "    torch.cuda.manual_seed_all(seed)\n",
        "    np.random.seed(seed)\n",
        "    return"
      ]
    },
    {
      "cell_type": "code",
      "execution_count": null,
      "metadata": {
        "id": "a3lPHQmt_erS"
      },
      "outputs": [],
      "source": [
        "def load_data(fname):\n",
        "    from sklearn.preprocessing import normalize\n",
        "    # θ, tke, enstrophy\n",
        "    # dθ/dt\n",
        "    data=np.load(fname)\n",
        "    #print(data.shape)\n",
        "    #eddy=np.concatenate((data[0,:,:,0],data[1,:,:,0]),axis=0)\n",
        "    tke=np.concatenate((data[0,:,:,1],data[1,:,:,1]),axis=0)\n",
        "    enst=np.concatenate((data[0,:,:,2],data[1,:,:,2]),axis=0)\n",
        "    th=np.concatenate((data[0,:,:,3],data[1,:,:,3]),axis=0)\n",
        "    th0=th\n",
        "\n",
        "    # Create target dataset\n",
        "    dthdt=np.zeros([1442,50],dtype='float')\n",
        "    for i in range(720):\n",
        "        dthdt[i+1,:]=th[i+1,:]-th[i,:]\n",
        "        dthdt[i+1+720,:]=th[i+1+720,:]-th[i+720,:]\n",
        "\n",
        "    # Normalization: L2-normalization\n",
        "    tke=normalize(tke,axis=1, norm='max')\n",
        "    enst=normalize(enst,axis=1, norm='max')*10.\n",
        "    th=normalize(th,axis=1, norm='max')\n",
        "\n",
        "    # Create input dataset\n",
        "    inputs=np.stack((tke,enst,th),axis=1)\n",
        "\n",
        "    return inputs, dthdt*10., th0"
      ]
    },
    {
      "cell_type": "code",
      "execution_count": null,
      "metadata": {
        "id": "W2_DcZpT_erS"
      },
      "outputs": [],
      "source": [
        "def loss_fn(y_pred, y):\n",
        "    mse = torch.nn.functional.mse_loss(y_pred, y)\n",
        "    return mse"
      ]
    },
    {
      "cell_type": "code",
      "execution_count": null,
      "metadata": {
        "id": "eXNga5tg_erT"
      },
      "outputs": [],
      "source": [
        "def scoring(y_pred,y):\n",
        "    target=np.zeros(len(y),dtype=\"float\")\n",
        "    for i in range(len(y)-1):\n",
        "        target[i+1,:]=y[i,:]+y_pred[i,:]/10.\n",
        "    target[0,:]=y[0,:]+y_pred[0,:]/10.\n",
        "    rmse=np.sqrt(mean_squared_error(y_pred,y))\n",
        "    corr=np.corrcoef(y_pred,y)[0,1]\n",
        "    print('Correlation: '+str(corr))\n",
        "    print('RMSE: '+str(rmse))\n",
        "    return corr,rmse"
      ]
    },
    {
      "cell_type": "code",
      "execution_count": null,
      "metadata": {
        "id": "w-UL4quO_erT"
      },
      "outputs": [],
      "source": [
        "class CNN1D(nn.Module):\n",
        "    def __init__(self, in_channels):\n",
        "        super(CNN1D, self).__init__()\n",
        "        self.conv1 = nn.Conv1d(in_channels=in_channels, out_channels=16, kernel_size=3, stride=1)\n",
        "        self.pool1 = nn.MaxPool1d(kernel_size=2, stride=1)\n",
        "        self.conv2 = nn.Conv1d(in_channels=16, out_channels=32, kernel_size=3, stride=1)\n",
        "        self.pool2 = nn.MaxPool1d(kernel_size=2, stride=1)\n",
        "        self.fc1 = nn.Linear(32*44, 64)\n",
        "        self.fc2 = nn.Linear(64, 50)\n",
        "        self.relu = nn.ReLU()\n",
        "        self.flatten = nn.Flatten()\n",
        "\n",
        "    def forward(self, x):\n",
        "        # x shape should be [batch_size, in_channels, 50]\n",
        "        x = self.relu(self.conv1(x))\n",
        "        #print(\"CONV1D\")\n",
        "        #print(x.shape)\n",
        "        x = self.pool1(x)\n",
        "        #print(\"MaxPool1D\")\n",
        "        #print(x.shape)\n",
        "        x = self.relu(self.conv2(x))\n",
        "        #print(\"CONV1D\")\n",
        "        #print(x.shape)\n",
        "        x = self.pool2(x)\n",
        "        #print(\"MaxPool1D\")\n",
        "        #print(x.shape)\n",
        "        x = self.flatten(x)\n",
        "        #print(\"flatten\")\n",
        "        #print(x.shape)\n",
        "        x = self.relu(self.fc1(x))\n",
        "        #print(\"FC\")\n",
        "        #print(x.shape)\n",
        "        x = self.fc2(x)\n",
        "        #print(\"FC\")\n",
        "        #print(x.shape)\n",
        "        return x\n",
        "\n",
        "model = CNN1D(in_channels=3)\n",
        "summary(model, input_size=(32,3,50), device=\"cpu\")\n"
      ]
    },
    {
      "cell_type": "code",
      "execution_count": null,
      "metadata": {
        "id": "2NEjtppvdBge"
      },
      "outputs": [],
      "source": [
        "def main():\n",
        "\n",
        "    inputs, dthdt, th0 = load_data(iopath+'data.npy') # inputs: tke, enst, th\n",
        "    x_data = inputs # (1442, 3, 50)\n",
        "    y_data = dthdt  # (1442, 50)\n",
        "\n",
        "    print(x_data.shape)\n",
        "    print(y_data.shape)\n",
        "\n",
        "    # Load TaiwanVVM data\n",
        "\n",
        "    # Training NN model\n",
        "    print(\"===== Training 1DCNN model =====\")\n",
        "\n",
        "    # Use GPU\n",
        "    #import tensorflow as tf\n",
        "    #device_name = tf.test.gpu_device_name()\n",
        "    #if device_name != '/device:GPU:0':\n",
        "    #   raise SystemError('GPU device not found')\n",
        "    #print('Found GPU at: {}'.format(device_name))\n",
        "\n",
        "    device=torch.device(\"cuda\" if torch.cuda.is_available() else \"cpu\")\n",
        "    print(device)\n",
        "\n",
        "    #  Convert to tensor\n",
        "    x_tensor = torch.tensor(x_data)\n",
        "    y_tensor = torch.tensor(y_data)\n",
        "    full_dataset = TensorDataset(x_tensor, y_tensor)\n",
        "\n",
        "    # Split the dataset into 80% training and 20% testing\n",
        "    set_seed(0)\n",
        "    train_size = int(0.8 * len(full_dataset))\n",
        "    test_size = len(full_dataset) - train_size\n",
        "    train_dataset, test_dataset = random_split(full_dataset, [train_size, test_size])\n",
        "    th0_train, th0_test = random_split(th0, [train_size, test_size])\n",
        "\n",
        "    # Get the indices of each subset\n",
        "    train_indices = train_dataset.indices\n",
        "    test_indices = test_dataset.indices\n",
        "\n",
        "    # Hyperparameters\n",
        "    learning_rate = 0.001\n",
        "    epochs = 1000\n",
        "    batch_size = 32\n",
        "    in_channels = 3\n",
        "\n",
        "    #  Dataloader\n",
        "    train_loader = DataLoader(train_dataset, batch_size = batch_size, shuffle = True)\n",
        "    test_loader = DataLoader(test_dataset, batch_size=1, shuffle=False)\n",
        "\n",
        "    # Load Fully-connected NN model to gpu\n",
        "    vcnn = CNN1D(in_channels=in_channels).to(device)\n",
        "\n",
        "    # Optimizer\n",
        "    optimizer = torch.optim.Adam(vcnn.parameters(), lr=learning_rate)\n",
        "\n",
        "    # Training loop\n",
        "    train_losses = []\n",
        "    test_losses = []\n",
        "    min_loss = 99999999999\n",
        "\n",
        "    for epoch in range(epochs):\n",
        "        vcnn.train()\n",
        "        tot_loss=0\n",
        "        for batch_x, batch_y in train_loader:\n",
        "            # Move the subsets to GPU\n",
        "            batch_x, batch_y = batch_x.to(device, dtype=torch.float), batch_y.to(device, dtype=torch.float)\n",
        "            # Forward pass\n",
        "            predictions = vcnn(batch_x)\n",
        "            loss = loss_fn(predictions, batch_y)\n",
        "\n",
        "            # Backward pass and optimization\n",
        "            optimizer.zero_grad()\n",
        "            loss.backward()\n",
        "            tot_loss += loss\n",
        "            optimizer.step()\n",
        "\n",
        "        tot_loss /= len(train_loader.dataset)\n",
        "\n",
        "        if (epoch + 1) % 10 == 0:\n",
        "            train_losses.append(tot_loss.item())\n",
        "            updated = False\n",
        "            if min_loss > tot_loss:\n",
        "                updated = True\n",
        "                min_loss = tot_loss\n",
        "                torch.save(vcnn, iopath+'VVM-1DCNN.pkl')\n",
        "            print (\n",
        "                '[{:>5d}/{:>5d}]'.format(epoch+1, epochs),\n",
        "                'Loss:{:>.2e}, '.format(tot_loss.item()),\n",
        "                'updated = {:>5s}, min loss={:>.2e}'.format(str(updated),min_loss)\n",
        "            )\n",
        "    # Plot training and testing loss\n",
        "    plt.plot(train_losses, label='Training Loss')\n",
        "    plt.xlabel('Epoch')\n",
        "    plt.ylabel('Loss')\n",
        "    plt.legend()\n",
        "    plt.title('Training Loss')\n",
        "    plt.show()\n",
        "\n",
        "    #vcnn=torch.load('VVM-1DCNN.pkl').to(device)\n",
        "    vcnn.eval()\n",
        "    output=[]\n",
        "    for test_x1, test_y1 in test_loader:\n",
        "        batch_x1, batch_y1 = test_x1.to(device, dtype=torch.float), test_y1.to(device, dtype=torch.float)\n",
        "        pred=vcnn(batch_x1)\n",
        "        output.append(pred.detach().cpu().numpy())\n",
        "    output=np.array(output)\n",
        "    print(output.shape)\n"
      ]
    },
    {
      "cell_type": "code",
      "execution_count": null,
      "metadata": {
        "id": "J88CmSpjJCqF"
      },
      "outputs": [],
      "source": [
        "if __name__=='__main__':\n",
        "   main()"
      ]
    },
    {
      "cell_type": "code",
      "execution_count": null,
      "metadata": {
        "id": "5bCMUc40_erU"
      },
      "outputs": [],
      "source": []
    },
    {
      "cell_type": "code",
      "execution_count": null,
      "metadata": {
        "id": "a_b5CYyj_erU"
      },
      "outputs": [],
      "source": []
    }
  ],
  "metadata": {
    "accelerator": "GPU",
    "colab": {
      "gpuType": "T4",
      "provenance": []
    },
    "kernelspec": {
      "display_name": "Python 3",
      "name": "python3"
    },
    "language_info": {
      "codemirror_mode": {
        "name": "ipython",
        "version": 3
      },
      "file_extension": ".py",
      "mimetype": "text/x-python",
      "name": "python",
      "nbconvert_exporter": "python",
      "pygments_lexer": "ipython3",
      "version": "3.9.13"
    }
  },
  "nbformat": 4,
  "nbformat_minor": 0
}
